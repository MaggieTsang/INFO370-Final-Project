{
 "cells": [
  {
   "cell_type": "markdown",
   "metadata": {},
   "source": [
    "# Import Data\n",
    "\n",
    "<br>\n",
    "<br>\n",
    "\n",
    "Below are brief explanations of what data we are importing and what these variables represent\n",
    "* `ALL_DATA` _(data frame)_ - is our main data set \n",
    "* `poke_types` _(data frame)_ - is a seperate data set that contains a mapping of Pokemon IDs to pokemon name and types. This will be important as our main dependant variable will be **Pokemon type**\n",
    "* `pokemonId_ALL` _(list/array)_ - of all unique pokemon IDs that exist in `ALL_DATA` from smallest to biggest number. \n",
    "\n",
    "<br>\n",
    "<br>\n",
    "<br>\n",
    "<br>\n"
   ]
  },
  {
   "cell_type": "code",
   "execution_count": 2,
   "metadata": {},
   "outputs": [],
   "source": [
    "import pandas as pd # data frames\n",
    "import numpy as np # ____number generation\n",
    "import statsmodels.formula.api as smf # for linear modeling\n",
    "import matplotlib.pyplot as plt # plotting\n",
    "\n",
    "import os.path # check if data file already exists\n",
    "import json # save dictionary strucs"
   ]
  },
  {
   "cell_type": "code",
   "execution_count": 3,
   "metadata": {},
   "outputs": [
    {
     "name": "stderr",
     "output_type": "stream",
     "text": [
      "C:\\Users\\Alaina\\Anaconda3\\lib\\site-packages\\IPython\\core\\interactiveshell.py:3020: DtypeWarning: Columns (49) have mixed types. Specify dtype option on import or set low_memory=False.\n",
      "  interactivity=interactivity, compiler=compiler, result=result)\n"
     ]
    }
   ],
   "source": [
    "ALL_DATA = pd.read_csv('data/300k.csv')"
   ]
  },
  {
   "cell_type": "code",
   "execution_count": 4,
   "metadata": {},
   "outputs": [],
   "source": [
    "poke_types = pd.read_csv('data/pokeId.csv')\n",
    "poke_types = poke_types[['#', \"Name\", \"Type 1\", \"Type 2\"]]\n",
    "pokemonId_ALL = set(ALL_DATA.pokemonId)"
   ]
  },
  {
   "cell_type": "markdown",
   "metadata": {},
   "source": [
    "<br>\n",
    "<br>\n",
    "<br>\n",
    "\n",
    "## Small Helper Functions"
   ]
  },
  {
   "cell_type": "code",
   "execution_count": 5,
   "metadata": {},
   "outputs": [],
   "source": [
    "def encode_type_data(data):\n",
    "    \"\"\"\n",
    "    Takes in Type data, Returns an array of encoded Pokemon Type data\n",
    "    \"\"\"\n",
    "    unique_types = list(data.unique())\n",
    "    results = []\n",
    "    for val in data:\n",
    "        results.append(unique_types.index(val))\n",
    "    return results"
   ]
  },
  {
   "cell_type": "code",
   "execution_count": 6,
   "metadata": {
    "scrolled": true
   },
   "outputs": [],
   "source": [
    "def printAllFeatures():\n",
    "    cols = ALL_DATA.columns\n",
    "    for col in cols:\n",
    "        print(col)"
   ]
  },
  {
   "cell_type": "markdown",
   "metadata": {},
   "source": [
    "<br>\n",
    "<br>\n",
    "<br>\n",
    "\n",
    "## Prepare Data"
   ]
  },
  {
   "cell_type": "code",
   "execution_count": 7,
   "metadata": {
    "code_folding": [],
    "scrolled": true
   },
   "outputs": [
    {
     "name": "stdout",
     "output_type": "stream",
     "text": [
      "Looks like you don't have the Pokemon ID to pokemon Type+Name dictionary.\n",
      "Let me go build that for you.\n",
      "Starting... \n",
      "Saving dictionary locally for future uses.\n",
      "...Done\n"
     ]
    }
   ],
   "source": [
    "# Create a mapping of IDs to type, secondary type, and name. We need to do this in order to add the\n",
    "# appropriate type to each pokemon in our main data set.\n",
    "\n",
    "pokeId_toType = {}\n",
    "\n",
    "if not os.path.exists(\"data/pokeId_toType.json\"): \n",
    "    \n",
    "    print(\"Looks like you don't have the Pokemon ID to pokemon Type+Name dictionary.\\nLet me go build that for you.\\nStarting... \")\n",
    "    \n",
    "    # build dictionary and save it for future uses\n",
    "    for index, row in poke_types.iterrows():\n",
    "        if row[\"#\"] in pokemonId_ALL: #only add poke that are in main data set\n",
    "            pokeId_toType[str(row[\"#\"])] = [row[\"Name\"] ,row[\"Type 1\"], row[\"Type 2\"]]\n",
    "    \n",
    "    print(\"Saving dictionary locally for future uses.\")\n",
    "    with open(\"data/pokeId_toType.json\", 'w') as f:\n",
    "        json.dump(pokeId_toType, f)\n",
    "    print(\"...Done\")\n",
    "else:\n",
    "    print(\"Good, you already have the Poke ID to Poke Type+Name dict. Move on.\")    \n",
    "    with open(\"data/pokeId_toType.json\") as f:\n",
    "        pokeId_toType = json.load(f)"
   ]
  },
  {
   "cell_type": "code",
   "execution_count": 8,
   "metadata": {
    "scrolled": true
   },
   "outputs": [
    {
     "name": "stdout",
     "output_type": "stream",
     "text": [
      "Hey looks like you're missing the merged data, let me build that for you, it'll take 2-5 minutes probably.\n",
      "\n",
      "Merging data...\n",
      "Done merging data.\n",
      "\n",
      "Saving merge data set to ./data/merged.csv\n",
      "\n",
      "...Done saving data. Move on now.\n",
      "\n"
     ]
    }
   ],
   "source": [
    "# Check if you have the merged data set. If you do not then build and save it locally.\n",
    "# The print statements do a good job of informing what's going on.\n",
    "\n",
    "if not os.path.exists(\"data/merged.csv\"): \n",
    "    \n",
    "    print(\"Hey looks like you're missing the merged data, let me build that for you, it'll take 2-5 minutes probably.\\n\")\n",
    "    \n",
    "    # Add the new columns\n",
    "    ALL_DATA[\"Name\"] = \"\"\n",
    "    ALL_DATA[\"Type\"] = \"\" \n",
    "\n",
    "    def update_row(row):\n",
    "        tempTypes = pokeId_toType[str(row[\"pokemonId\"])]   \n",
    "        listy = [tempTypes[0], tempTypes[1]]\n",
    "        return pd.Series(listy)\n",
    "\n",
    "    print(\"Merging data...\")\n",
    "    ALL_DATA[['Name', 'Type']] = ALL_DATA.apply(update_row, axis=1)\n",
    "    print(\"Done merging data.\\n\")\n",
    "\n",
    "    print(\"Saving merge data set to ./data/merged.csv\")\n",
    "    ALL_DATA.to_csv(\"data/merged.csv\",index=False)\n",
    "    print(\"\\n...Done saving data. Move on now.\\n\")\n",
    "    ALL_DATA.head()\n",
    "else:\n",
    "    ALL_DATA = pd.read_csv('data/merged.csv')\n",
    "    print(\"Good job, you already have the merged data. Move on.\")"
   ]
  },
  {
   "cell_type": "markdown",
   "metadata": {},
   "source": [
    "<br>\n",
    "<br>\n",
    "<br>\n",
    "\n",
    "### Encoding\n",
    "\n",
    "We cannot use categorical data (strings) in feature selection or regressions.\n",
    "The solution to this is to turn strings into numerical data mappings in order to be able to process them.\n",
    "Based on my research there are three beginner friendly functions that do this. \n",
    "\n",
    "`sklearn` has the functions `LabelEncoder()` and `OneHotEncoder()` -- and `pandas` has its own functions `get_dummies()`.\n",
    "\n",
    "I selected the `get_dummies()` as both it and my data frames are managed with the `pandas` library."
   ]
  },
  {
   "cell_type": "code",
   "execution_count": 9,
   "metadata": {
    "scrolled": true
   },
   "outputs": [],
   "source": [
    "DATA_encoded = ALL_DATA.dropna()\n",
    "\n",
    "# These columns are of type objects but are not helpful to us.\n",
    "DATA_encoded = DATA_encoded.drop([\"appearedLocalTime\", \"appearedDayOfWeek\", \"_id\", \"city\", \"weatherIcon\", \"Name\"], axis=1) ########## Question from Maggie - Do we want to keep name, would it help our results or nah? \n",
    "\n",
    "# it's an object column but should be float: convert it.\n",
    "DATA_encoded[\"pokestopDistanceKm\"] = DATA_encoded[\"pokestopDistanceKm\"].apply(pd.to_numeric, downcast='float', errors='coerce')"
   ]
  },
  {
   "cell_type": "code",
   "execution_count": 10,
   "metadata": {},
   "outputs": [
    {
     "name": "stdout",
     "output_type": "stream",
     "text": [
      "Encoding <appearedTimeOfDay>.\n",
      "Encoding <continent>.\n",
      "Encoding <weather>.\n",
      "...Done encoding.\n"
     ]
    }
   ],
   "source": [
    "# anything of type object seems to be categorical, encode it.\n",
    "\n",
    "# produce dummies for categorical columns, concat them to data, remove originals\n",
    "\n",
    "# get_dummies() code:\n",
    "# https://towardsdatascience.com/the-dummys-guide-to-creating-dummy-variables-f21faddb1d40\n",
    "\n",
    "cols_toNotTouch = [\"Type\"]\n",
    "\n",
    "for col in DATA_encoded.columns:\n",
    "    if (str(DATA_encoded[col].dtype) == 'object') and (not(col in cols_toNotTouch)):\n",
    "        \n",
    "        print(\"Encoding <\" + col + \">.\")\n",
    "        dummy = pd.get_dummies(DATA_encoded[col])\n",
    "        DATA_encoded = DATA_encoded.drop([col], axis=1)\n",
    "        DATA_encoded = pd.concat([DATA_encoded, dummy], axis=1)\n",
    "print(\"...Done encoding.\")"
   ]
  },
  {
   "cell_type": "markdown",
   "metadata": {},
   "source": [
    "#### ONLY ONE SPLIT"
   ]
  },
  {
   "cell_type": "code",
   "execution_count": 11,
   "metadata": {
    "scrolled": true
   },
   "outputs": [
    {
     "name": "stdout",
     "output_type": "stream",
     "text": [
      "train features shape (236816, 242)\n",
      "test features shape (59205, 242)\n",
      "\n",
      "train outcomes shape (236816,)\n",
      "test outcomes shape (59205,)\n"
     ]
    }
   ],
   "source": [
    "# Split data\n",
    "from sklearn.model_selection import train_test_split\n",
    "\n",
    "train_X, test_X, train_Y, test_Y = train_test_split(\n",
    "                                       DATA_encoded,      # features\n",
    "                                        DATA_encoded.Type,                               \n",
    "#     ALL_DATA[\"Type\"],    # outcome ######################### CHANGE TO ---> DATA_encoded.Type \n",
    "                                       test_size=0.20, # percentage of data to use as the test set\n",
    "                                       random_state=15 # set a random state so it is consistent (not required!)\n",
    "                                                                            )\n",
    "\n",
    "print(\"train features shape\", train_X.shape)\n",
    "print(\"test features shape\", test_X.shape)\n",
    "print()\n",
    "print(\"train outcomes shape\", train_Y.shape)\n",
    "print(\"test outcomes shape\", test_Y.shape)"
   ]
  },
  {
   "cell_type": "code",
   "execution_count": null,
   "metadata": {},
   "outputs": [],
   "source": []
  },
  {
   "cell_type": "code",
   "execution_count": 12,
   "metadata": {},
   "outputs": [],
   "source": [
    "train_X = train_X.dropna()\n",
    "train_Y = train_X[\"Type\"]\n",
    "\n",
    "test_X = train_X.dropna()\n",
    "test_Y = train_X[\"Type\"]\n",
    "\n",
    "train_X_for_modeling = train_X.copy()\n",
    "test_X_for_modeling = test_X.copy()\n",
    "\n",
    "\n",
    "train_X_results = train_X.Type\n",
    "test_X_results = test_X.Type\n",
    "\n",
    "\n",
    "# Put this in if (has Type column)\n",
    "train_X = train_X.drop([\"Type\"], axis=1)\n",
    "test_X = test_X.drop([\"Type\"], axis=1)"
   ]
  },
  {
   "cell_type": "code",
   "execution_count": null,
   "metadata": {},
   "outputs": [],
   "source": []
  },
  {
   "cell_type": "code",
   "execution_count": null,
   "metadata": {},
   "outputs": [],
   "source": []
  },
  {
   "cell_type": "markdown",
   "metadata": {},
   "source": [
    "# Feature Selection\n",
    "\n",
    "forward feature selection using Lasso regression:\n",
    "https://mikulskibartosz.name/forward-feature-selection-in-scikit-learn-f6476e474ddd\n",
    "\n",
    "* Uses regularization to prevent overfitting\n",
    "* Sets the coefficients of unimportant variables to 0\n",
    "* Don't forget to smash that subscribe button\n",
    "* For every 'Like' on this jupyter notebook, an INFO student yodels \"The iSchool is MySchool!\"\n",
    "* Delete the last three bullets before submitting"
   ]
  },
  {
   "cell_type": "markdown",
   "metadata": {},
   "source": [
    "### Made a change in 'outcomes' variable"
   ]
  },
  {
   "cell_type": "code",
   "execution_count": 15,
   "metadata": {},
   "outputs": [],
   "source": []
  },
  {
   "cell_type": "code",
   "execution_count": 20,
   "metadata": {
    "scrolled": true
   },
   "outputs": [],
   "source": [
    "# train_X = train_X.dropna()\n",
    "\n",
    "# train_X_results = train_X2.Type\n",
    "# train_X = train_X2.drop(\"Type\", axis=1)\n",
    "\n",
    "# test_X_results = test_X2.Type\n",
    "# test_X2 = test_X2.drop(\"Type\", axis=1)"
   ]
  },
  {
   "cell_type": "code",
   "execution_count": null,
   "metadata": {},
   "outputs": [],
   "source": []
  },
  {
   "cell_type": "code",
   "execution_count": 22,
   "metadata": {
    "scrolled": false
   },
   "outputs": [
    {
     "name": "stderr",
     "output_type": "stream",
     "text": [
      "/anaconda3/lib/python3.7/site-packages/sklearn/linear_model/coordinate_descent.py:492: ConvergenceWarning: Objective did not converge. You might want to increase the number of iterations. Fitting data with very small alpha may cause precision problems.\n",
      "  ConvergenceWarning)\n"
     ]
    },
    {
     "data": {
      "text/plain": [
       "array([[-93.294797, 398, 1186, 266.19315],\n",
       "       [-115.074725, 375, 1144, 1361.0005],\n",
       "       [-1.897839, 385, 1190, 3622.8896],\n",
       "       ...,\n",
       "       [-92.652612, 394, 1167, 21.806335],\n",
       "       [-113.44095, 408, 1219, 761.8856],\n",
       "       [14.472905, 387, 1178, 1055.8982]], dtype=object)"
      ]
     },
     "execution_count": 22,
     "metadata": {},
     "output_type": "execute_result"
    }
   ],
   "source": [
    "# Code Reference: https://mikulskibartosz.name/forward-feature-selection-in-scikit-learn-f6476e474ddd\n",
    "import seaborn as sns\n",
    "import pandas as pd\n",
    "from sklearn.feature_selection import SelectFromModel\n",
    "from sklearn.linear_model import Lasso\n",
    "\n",
    "X = train_X.drop([\"pokemonId\", \"class\"], axis=1) # Drop columns that directly affect Pokemon Type\n",
    "y = encode_type_data(train_X_results)\n",
    "estimator = Lasso()\n",
    "featureSelection = SelectFromModel(estimator)\n",
    "featureSelection.fit(X, y)\n",
    "selectedFeatures = featureSelection.transform(X)\n",
    "selectedFeatures\n",
    "\n"
   ]
  },
  {
   "cell_type": "code",
   "execution_count": 23,
   "metadata": {},
   "outputs": [
    {
     "data": {
      "text/plain": [
       "Index(['longitude', 'sunriseMinutesMidnight', 'sunsetMinutesMidnight',\n",
       "       'population_density'],\n",
       "      dtype='object')"
      ]
     },
     "execution_count": 23,
     "metadata": {},
     "output_type": "execute_result"
    }
   ],
   "source": [
    "# Get features that most affect the Pokemon Type predictions\n",
    "X.columns[featureSelection.get_support()]\n"
   ]
  },
  {
   "cell_type": "markdown",
   "metadata": {},
   "source": [
    "## Ending Notes/Ideas:\n",
    "\n",
    "* The line above returns columns - 'longitude', 'sunriseMinutesMidnight', 'sunsetMinutesMidnight', 'population_density'\n",
    "* Drop irrelevant columns in 'X' above for a more narrow scope of features when modeling iterations (out of all the columns, which weather data is best etc.)\n",
    "* Explain why regular feature selection would not work on oue categorical data."
   ]
  },
  {
   "cell_type": "markdown",
   "metadata": {},
   "source": [
    "# Modeling\n",
    "---"
   ]
  },
  {
   "cell_type": "code",
   "execution_count": 13,
   "metadata": {},
   "outputs": [],
   "source": [
    "predictions_df = pd.DataFrame()\n",
    "predictions_df[\"Actual\"] = list(test_Y)\n",
    "\n",
    "all_accuracy_scores = []\n",
    "all_accuracy_models = [\"Decision Tree\", \"KNN Classifier\", \"SVC Regression\"]"
   ]
  },
  {
   "cell_type": "markdown",
   "metadata": {},
   "source": [
    "### Decision Tree\n",
    "\n",
    "Using max depth of 15 results in a 100% accuracy score.\n",
    "It would be worth exporting the decision tree in order to see how it's coming to conclusions.\n",
    "<br>"
   ]
  },
  {
   "cell_type": "code",
   "execution_count": 14,
   "metadata": {},
   "outputs": [
    {
     "data": {
      "text/plain": [
       "1.0"
      ]
     },
     "execution_count": 14,
     "metadata": {},
     "output_type": "execute_result"
    }
   ],
   "source": [
    "from sklearn.tree import DecisionTreeClassifier\n",
    "from sklearn.metrics import accuracy_score\n",
    "\n",
    "dtree_model = DecisionTreeClassifier(max_depth = 15).fit(train_X, train_Y) \n",
    "dtree_predictions = dtree_model.predict(test_X)\n",
    "predictions_df[\"decTree preds\"]  = list(dtree_predictions)\n",
    "score = accuracy_score(test_Y, dtree_predictions)\n",
    "all_accuracy_scores.append(score)\n",
    "score"
   ]
  },
  {
   "cell_type": "code",
   "execution_count": null,
   "metadata": {},
   "outputs": [],
   "source": []
  },
  {
   "cell_type": "markdown",
   "metadata": {},
   "source": [
    "### KNN Neighbors"
   ]
  },
  {
   "cell_type": "code",
   "execution_count": 15,
   "metadata": {
    "scrolled": false
   },
   "outputs": [
    {
     "name": "stdout",
     "output_type": "stream",
     "text": [
      "0.5583480442255877\n"
     ]
    }
   ],
   "source": [
    "from sklearn.neighbors import KNeighborsClassifier\n",
    "\n",
    "knn_clf = KNeighborsClassifier(n_neighbors=8, weights=\"uniform\")\n",
    "knn_model = knn_clf.fit(train_X, train_Y)\n",
    "preds = knn_model.predict(test_X)\n",
    "predictions_df[\"KNN_preds\"] = preds\n",
    "score = accuracy_score(test_Y, preds)\n",
    "all_accuracy_scores.append(score)\n",
    "print(score)"
   ]
  },
  {
   "cell_type": "code",
   "execution_count": 16,
   "metadata": {},
   "outputs": [
    {
     "data": {
      "text/html": [
       "<div>\n",
       "<style scoped>\n",
       "    .dataframe tbody tr th:only-of-type {\n",
       "        vertical-align: middle;\n",
       "    }\n",
       "\n",
       "    .dataframe tbody tr th {\n",
       "        vertical-align: top;\n",
       "    }\n",
       "\n",
       "    .dataframe thead th {\n",
       "        text-align: right;\n",
       "    }\n",
       "</style>\n",
       "<table border=\"1\" class=\"dataframe\">\n",
       "  <thead>\n",
       "    <tr style=\"text-align: right;\">\n",
       "      <th></th>\n",
       "      <th>Actual</th>\n",
       "      <th>decTree preds</th>\n",
       "      <th>KNN_preds</th>\n",
       "    </tr>\n",
       "  </thead>\n",
       "  <tbody>\n",
       "    <tr>\n",
       "      <th>0</th>\n",
       "      <td>Normal</td>\n",
       "      <td>Normal</td>\n",
       "      <td>Normal</td>\n",
       "    </tr>\n",
       "    <tr>\n",
       "      <th>1</th>\n",
       "      <td>Poison</td>\n",
       "      <td>Poison</td>\n",
       "      <td>Fire</td>\n",
       "    </tr>\n",
       "    <tr>\n",
       "      <th>2</th>\n",
       "      <td>Psychic</td>\n",
       "      <td>Psychic</td>\n",
       "      <td>Psychic</td>\n",
       "    </tr>\n",
       "    <tr>\n",
       "      <th>3</th>\n",
       "      <td>Ground</td>\n",
       "      <td>Ground</td>\n",
       "      <td>Ground</td>\n",
       "    </tr>\n",
       "    <tr>\n",
       "      <th>4</th>\n",
       "      <td>Normal</td>\n",
       "      <td>Normal</td>\n",
       "      <td>Normal</td>\n",
       "    </tr>\n",
       "  </tbody>\n",
       "</table>\n",
       "</div>"
      ],
      "text/plain": [
       "    Actual decTree preds KNN_preds\n",
       "0   Normal        Normal    Normal\n",
       "1   Poison        Poison      Fire\n",
       "2  Psychic       Psychic   Psychic\n",
       "3   Ground        Ground    Ground\n",
       "4   Normal        Normal    Normal"
      ]
     },
     "execution_count": 16,
     "metadata": {},
     "output_type": "execute_result"
    }
   ],
   "source": [
    "predictions_df.head()"
   ]
  },
  {
   "cell_type": "markdown",
   "metadata": {},
   "source": [
    "## Multiclass regression"
   ]
  },
  {
   "cell_type": "markdown",
   "metadata": {},
   "source": [
    "### SVC Regression\n",
    "\n",
    "Meant for working with categorical data.\n",
    "Grab subset sample data for SVC regression, takes too long otherwise."
   ]
  },
  {
   "cell_type": "code",
   "execution_count": 17,
   "metadata": {},
   "outputs": [],
   "source": [
    "sample_train_X = train_X_for_modeling.sample(frac=0.01)\n",
    "sample_train_Y = sample_train_X.Type\n",
    "sample_train_X = sample_train_X.drop(\"Type\", axis=1)\n",
    "\n",
    "sample_test_X = test_X_for_modeling.sample(frac=0.01)\n",
    "sample_test_Y = sample_test_X.Type\n",
    "sample_test_X = sample_test_X.drop(\"Type\", axis=1)"
   ]
  },
  {
   "cell_type": "code",
   "execution_count": 18,
   "metadata": {},
   "outputs": [],
   "source": [
    "# SVC gets its own data frame because its based on sample data, and not the entire test data. Mismatch on rows would happen if we tried to merge.\n",
    "svc_df = pd.DataFrame()\n",
    "svc_df[\"Actual\"] = list(sample_test_Y)"
   ]
  },
  {
   "cell_type": "code",
   "execution_count": 19,
   "metadata": {},
   "outputs": [],
   "source": [
    "encoded_sample_train_Y = encode_type_data(sample_train_Y)\n",
    "encoded_sample_test_Y = encode_type_data(sample_test_Y)"
   ]
  },
  {
   "cell_type": "code",
   "execution_count": 20,
   "metadata": {},
   "outputs": [
    {
     "name": "stderr",
     "output_type": "stream",
     "text": [
      "C:\\Users\\Alaina\\Anaconda3\\lib\\site-packages\\sklearn\\svm\\base.py:196: FutureWarning: The default value of gamma will change from 'auto' to 'scale' in version 0.22 to account better for unscaled features. Set gamma explicitly to 'auto' or 'scale' to avoid this warning.\n",
      "  \"avoid this warning.\", FutureWarning)\n"
     ]
    },
    {
     "name": "stdout",
     "output_type": "stream",
     "text": [
      "SVC accuracy: 0.18623310810810811\n"
     ]
    }
   ],
   "source": [
    "from sklearn.svm import SVC \n",
    "svm_model_linear = SVC(C = 1).fit(sample_train_X, encoded_sample_train_Y) \n",
    "svm_predictions = svm_model_linear.predict(sample_test_X) \n",
    "svc_df[\"svc_preds\"] = list(svm_predictions)\n",
    "accuracy = svm_model_linear.score(sample_test_X, encoded_sample_test_Y)\n",
    "all_accuracy_scores.append(accuracy)\n",
    "print(\"SVC accuracy:\", accuracy)"
   ]
  },
  {
   "cell_type": "code",
   "execution_count": 21,
   "metadata": {},
   "outputs": [
    {
     "data": {
      "text/html": [
       "<div>\n",
       "<style scoped>\n",
       "    .dataframe tbody tr th:only-of-type {\n",
       "        vertical-align: middle;\n",
       "    }\n",
       "\n",
       "    .dataframe tbody tr th {\n",
       "        vertical-align: top;\n",
       "    }\n",
       "\n",
       "    .dataframe thead th {\n",
       "        text-align: right;\n",
       "    }\n",
       "</style>\n",
       "<table border=\"1\" class=\"dataframe\">\n",
       "  <thead>\n",
       "    <tr style=\"text-align: right;\">\n",
       "      <th></th>\n",
       "      <th>Actual</th>\n",
       "      <th>svc_preds</th>\n",
       "    </tr>\n",
       "  </thead>\n",
       "  <tbody>\n",
       "    <tr>\n",
       "      <th>0</th>\n",
       "      <td>Fire</td>\n",
       "      <td>2</td>\n",
       "    </tr>\n",
       "    <tr>\n",
       "      <th>1</th>\n",
       "      <td>Normal</td>\n",
       "      <td>2</td>\n",
       "    </tr>\n",
       "    <tr>\n",
       "      <th>2</th>\n",
       "      <td>Normal</td>\n",
       "      <td>2</td>\n",
       "    </tr>\n",
       "    <tr>\n",
       "      <th>3</th>\n",
       "      <td>Bug</td>\n",
       "      <td>2</td>\n",
       "    </tr>\n",
       "    <tr>\n",
       "      <th>4</th>\n",
       "      <td>Normal</td>\n",
       "      <td>2</td>\n",
       "    </tr>\n",
       "  </tbody>\n",
       "</table>\n",
       "</div>"
      ],
      "text/plain": [
       "   Actual  svc_preds\n",
       "0    Fire          2\n",
       "1  Normal          2\n",
       "2  Normal          2\n",
       "3     Bug          2\n",
       "4  Normal          2"
      ]
     },
     "execution_count": 21,
     "metadata": {},
     "output_type": "execute_result"
    }
   ],
   "source": [
    "svc_df.head()"
   ]
  },
  {
   "cell_type": "markdown",
   "metadata": {},
   "source": [
    "### Grid Search\n",
    "\n",
    "Determine best neighbors and depth level for models"
   ]
  },
  {
   "cell_type": "code",
   "execution_count": 22,
   "metadata": {},
   "outputs": [],
   "source": [
    "from sklearn.model_selection import GridSearchCV"
   ]
  },
  {
   "cell_type": "code",
   "execution_count": 23,
   "metadata": {},
   "outputs": [
    {
     "name": "stderr",
     "output_type": "stream",
     "text": [
      "C:\\Users\\Alaina\\Anaconda3\\lib\\site-packages\\sklearn\\model_selection\\_split.py:652: Warning: The least populated class in y has only 3 members, which is too few. The minimum number of members in any class cannot be less than n_splits=10.\n",
      "  % (min_groups, self.n_splits)), Warning)\n",
      "C:\\Users\\Alaina\\Anaconda3\\lib\\site-packages\\sklearn\\model_selection\\_search.py:841: DeprecationWarning: The default of the `iid` parameter will change from True to False in version 0.22 and will be removed in 0.24. This will change numeric results when test-set sizes are unequal.\n",
      "  DeprecationWarning)\n"
     ]
    },
    {
     "name": "stdout",
     "output_type": "stream",
     "text": [
      "KNN params: {'n_neighbors': 9, 'weights': 'uniform'} KNN score: 0.21832770270270271\n"
     ]
    }
   ],
   "source": [
    "from sklearn.neighbors import KNeighborsClassifier\n",
    "\n",
    "# for KNN\n",
    "param_grid = {'n_neighbors':range(1, 10), 'weights':[\"uniform\", \"distance\"]}\n",
    "grid_search = GridSearchCV(KNeighborsClassifier(), param_grid, cv=10, return_train_score=True)\n",
    "grid_search.fit(sample_train_X, encoded_sample_train_Y)\n",
    "knn_params = grid_search.cv_results_['params'][grid_search.best_index_]\n",
    "knn_score = grid_search.score(sample_test_X, encoded_sample_test_Y)\n",
    "print(\"KNN params:\", knn_params, \"KNN score:\", knn_score)"
   ]
  },
  {
   "cell_type": "code",
   "execution_count": 24,
   "metadata": {},
   "outputs": [
    {
     "name": "stderr",
     "output_type": "stream",
     "text": [
      "C:\\Users\\Alaina\\Anaconda3\\lib\\site-packages\\sklearn\\model_selection\\_split.py:652: Warning: The least populated class in y has only 3 members, which is too few. The minimum number of members in any class cannot be less than n_splits=10.\n",
      "  % (min_groups, self.n_splits)), Warning)\n"
     ]
    },
    {
     "name": "stdout",
     "output_type": "stream",
     "text": [
      "Tree params: {'max_depth': 1} Tree score: 0.1891891891891892\n"
     ]
    },
    {
     "name": "stderr",
     "output_type": "stream",
     "text": [
      "C:\\Users\\Alaina\\Anaconda3\\lib\\site-packages\\sklearn\\model_selection\\_search.py:841: DeprecationWarning: The default of the `iid` parameter will change from True to False in version 0.22 and will be removed in 0.24. This will change numeric results when test-set sizes are unequal.\n",
      "  DeprecationWarning)\n"
     ]
    }
   ],
   "source": [
    "from sklearn.tree import DecisionTreeClassifier\n",
    "\n",
    "# for Decision Tree\n",
    "param_grid_tree = {'max_depth': np.arange(1, 10)}\n",
    "tree_grid = GridSearchCV(DecisionTreeClassifier(), param_grid_tree, cv=10, return_train_score=True)\n",
    "tree_grid.fit(sample_test_X, encoded_sample_train_Y)\n",
    "tree_params = tree_grid.cv_results_['params'][tree_grid.best_index_]\n",
    "tree_score = tree_grid.score(sample_test_X, encoded_sample_test_Y)\n",
    "print(\"Tree params:\", tree_params, \"Tree score:\", tree_score)"
   ]
  },
  {
   "cell_type": "markdown",
   "metadata": {},
   "source": [
    "<br>\n",
    "<br>\n",
    "<br>\n",
    "\n",
    "### Ending Thoughts\n",
    "\n",
    "> feature selection - what to do?\n",
    "> compare accuracies\n",
    "> See per type - create results df, compare how accurate predictions are for <type>"
   ]
  },
  {
   "cell_type": "code",
   "execution_count": null,
   "metadata": {},
   "outputs": [],
   "source": []
  },
  {
   "cell_type": "markdown",
   "metadata": {},
   "source": [
    "\n",
    "<br>\n",
    "<br>\n",
    "\n",
    "## Visualizations\n"
   ]
  },
  {
   "cell_type": "code",
   "execution_count": 25,
   "metadata": {},
   "outputs": [],
   "source": [
    "import matplotlib.pyplot as plt"
   ]
  },
  {
   "cell_type": "code",
   "execution_count": null,
   "metadata": {},
   "outputs": [],
   "source": []
  },
  {
   "cell_type": "code",
   "execution_count": 26,
   "metadata": {},
   "outputs": [
    {
     "data": {
      "text/plain": [
       "['Decision Tree', 'KNN Classifier', 'SVC Regression']"
      ]
     },
     "execution_count": 26,
     "metadata": {},
     "output_type": "execute_result"
    }
   ],
   "source": [
    "\n",
    "all_accuracy_models"
   ]
  },
  {
   "cell_type": "code",
   "execution_count": 27,
   "metadata": {},
   "outputs": [
    {
     "data": {
      "text/plain": [
       "[1.0, 0.5583480442255877, 0.18623310810810811]"
      ]
     },
     "execution_count": 27,
     "metadata": {},
     "output_type": "execute_result"
    }
   ],
   "source": [
    "all_accuracy_scores"
   ]
  },
  {
   "cell_type": "code",
   "execution_count": 28,
   "metadata": {},
   "outputs": [
    {
     "data": {
      "image/png": "[encoded data removed]",
      "text/plain": [
       "<Figure size 720x720 with 1 Axes>"
      ]
     },
     "metadata": {
      "needs_background": "light"
     },
     "output_type": "display_data"
    }
   ],
   "source": [
    "# visualize accuracy scores\n",
    "\n",
    "features = all_accuracy_models\n",
    "corr_nums = all_accuracy_scores\n",
    "\n",
    "plt.figure(figsize=(10,10))\n",
    "plt.barh(features, corr_nums, align='center', alpha=0.5)\n",
    "plt.yticks(features, features)\n",
    "plt.xlabel('Accuracy Score')\n",
    "plt.title('ML Models versus Accuracy Score')\n",
    "\n",
    "plt.show()"
   ]
  },
  {
   "cell_type": "code",
   "execution_count": 29,
   "metadata": {},
   "outputs": [],
   "source": [
    "def getNumPerModel(columnName, tempDF):\n",
    "    result = []\n",
    "    for poke in pokeTypes:\n",
    "        length = len(tempDF[tempDF[columnName] == poke])\n",
    "        result.append(length)\n",
    "    return(result)"
   ]
  },
  {
   "cell_type": "code",
   "execution_count": 30,
   "metadata": {},
   "outputs": [],
   "source": [
    "pokeTypes = list(set(ALL_DATA.Type))"
   ]
  },
  {
   "cell_type": "code",
   "execution_count": 32,
   "metadata": {},
   "outputs": [
    {
     "data": {
      "image/png": "[encoded data removed]",
      "text/plain": [
       "<Figure size 720x720 with 1 Axes>"
      ]
     },
     "metadata": {
      "needs_background": "light"
     },
     "output_type": "display_data"
    }
   ],
   "source": [
    "# KNN\n",
    "\n",
    "features = pokeTypes\n",
    "actual_nums = getNumPerModel(\"Actual\", predictions_df)\n",
    "knn_nums = getNumPerModel(\"KNN_preds\", predictions_df)\n",
    "\n",
    "plt.figure(figsize=(10,10))\n",
    "\n",
    "plt.barh(features, actual_nums, align='center', alpha=0.4, color=\"red\", label=\"Missed Prediction\")\n",
    "plt.barh(features, knn_nums, align='center', alpha=0.4, color=\"yellow\", label=\"Over Prediction\")\n",
    "\n",
    "\n",
    "plt.yticks(features, features)\n",
    "plt.xlabel('Number of Occurrences')\n",
    "plt.ylabel(\"Pokemon Types\")\n",
    "plt.title('Actual Pokemon Occurrences versus KNN Preds')\n",
    "\n",
    "plt.legend()\n",
    "\n",
    "plt.show()"
   ]
  },
  {
   "cell_type": "code",
   "execution_count": 116,
   "metadata": {
    "scrolled": true
   },
   "outputs": [
    {
     "data": {
      "text/html": [
       "<div>\n",
       "<style scoped>\n",
       "    .dataframe tbody tr th:only-of-type {\n",
       "        vertical-align: middle;\n",
       "    }\n",
       "\n",
       "    .dataframe tbody tr th {\n",
       "        vertical-align: top;\n",
       "    }\n",
       "\n",
       "    .dataframe thead th {\n",
       "        text-align: right;\n",
       "    }\n",
       "</style>\n",
       "<table border=\"1\" class=\"dataframe\">\n",
       "  <thead>\n",
       "    <tr style=\"text-align: right;\">\n",
       "      <th></th>\n",
       "      <th>Actual</th>\n",
       "      <th>decTree preds</th>\n",
       "      <th>KNN_preds</th>\n",
       "    </tr>\n",
       "  </thead>\n",
       "  <tbody>\n",
       "    <tr>\n",
       "      <th>0</th>\n",
       "      <td>Normal</td>\n",
       "      <td>Normal</td>\n",
       "      <td>Normal</td>\n",
       "    </tr>\n",
       "    <tr>\n",
       "      <th>1</th>\n",
       "      <td>Poison</td>\n",
       "      <td>Poison</td>\n",
       "      <td>Fire</td>\n",
       "    </tr>\n",
       "    <tr>\n",
       "      <th>2</th>\n",
       "      <td>Psychic</td>\n",
       "      <td>Psychic</td>\n",
       "      <td>Psychic</td>\n",
       "    </tr>\n",
       "    <tr>\n",
       "      <th>3</th>\n",
       "      <td>Ground</td>\n",
       "      <td>Ground</td>\n",
       "      <td>Ground</td>\n",
       "    </tr>\n",
       "    <tr>\n",
       "      <th>4</th>\n",
       "      <td>Normal</td>\n",
       "      <td>Normal</td>\n",
       "      <td>Normal</td>\n",
       "    </tr>\n",
       "    <tr>\n",
       "      <th>5</th>\n",
       "      <td>Psychic</td>\n",
       "      <td>Psychic</td>\n",
       "      <td>Poison</td>\n",
       "    </tr>\n",
       "    <tr>\n",
       "      <th>6</th>\n",
       "      <td>Normal</td>\n",
       "      <td>Normal</td>\n",
       "      <td>Bug</td>\n",
       "    </tr>\n",
       "    <tr>\n",
       "      <th>7</th>\n",
       "      <td>Normal</td>\n",
       "      <td>Normal</td>\n",
       "      <td>Normal</td>\n",
       "    </tr>\n",
       "    <tr>\n",
       "      <th>8</th>\n",
       "      <td>Bug</td>\n",
       "      <td>Bug</td>\n",
       "      <td>Normal</td>\n",
       "    </tr>\n",
       "    <tr>\n",
       "      <th>9</th>\n",
       "      <td>Grass</td>\n",
       "      <td>Grass</td>\n",
       "      <td>Normal</td>\n",
       "    </tr>\n",
       "    <tr>\n",
       "      <th>10</th>\n",
       "      <td>Normal</td>\n",
       "      <td>Normal</td>\n",
       "      <td>Normal</td>\n",
       "    </tr>\n",
       "    <tr>\n",
       "      <th>11</th>\n",
       "      <td>Water</td>\n",
       "      <td>Water</td>\n",
       "      <td>Water</td>\n",
       "    </tr>\n",
       "    <tr>\n",
       "      <th>12</th>\n",
       "      <td>Psychic</td>\n",
       "      <td>Psychic</td>\n",
       "      <td>Bug</td>\n",
       "    </tr>\n",
       "    <tr>\n",
       "      <th>13</th>\n",
       "      <td>Water</td>\n",
       "      <td>Water</td>\n",
       "      <td>Fairy</td>\n",
       "    </tr>\n",
       "    <tr>\n",
       "      <th>14</th>\n",
       "      <td>Bug</td>\n",
       "      <td>Bug</td>\n",
       "      <td>Normal</td>\n",
       "    </tr>\n",
       "    <tr>\n",
       "      <th>15</th>\n",
       "      <td>Normal</td>\n",
       "      <td>Normal</td>\n",
       "      <td>Normal</td>\n",
       "    </tr>\n",
       "    <tr>\n",
       "      <th>16</th>\n",
       "      <td>Bug</td>\n",
       "      <td>Bug</td>\n",
       "      <td>Normal</td>\n",
       "    </tr>\n",
       "    <tr>\n",
       "      <th>17</th>\n",
       "      <td>Psychic</td>\n",
       "      <td>Psychic</td>\n",
       "      <td>Poison</td>\n",
       "    </tr>\n",
       "    <tr>\n",
       "      <th>18</th>\n",
       "      <td>Water</td>\n",
       "      <td>Water</td>\n",
       "      <td>Water</td>\n",
       "    </tr>\n",
       "    <tr>\n",
       "      <th>19</th>\n",
       "      <td>Bug</td>\n",
       "      <td>Bug</td>\n",
       "      <td>Bug</td>\n",
       "    </tr>\n",
       "    <tr>\n",
       "      <th>20</th>\n",
       "      <td>Bug</td>\n",
       "      <td>Bug</td>\n",
       "      <td>Normal</td>\n",
       "    </tr>\n",
       "    <tr>\n",
       "      <th>21</th>\n",
       "      <td>Normal</td>\n",
       "      <td>Normal</td>\n",
       "      <td>Normal</td>\n",
       "    </tr>\n",
       "    <tr>\n",
       "      <th>22</th>\n",
       "      <td>Normal</td>\n",
       "      <td>Normal</td>\n",
       "      <td>Normal</td>\n",
       "    </tr>\n",
       "    <tr>\n",
       "      <th>23</th>\n",
       "      <td>Normal</td>\n",
       "      <td>Normal</td>\n",
       "      <td>Normal</td>\n",
       "    </tr>\n",
       "    <tr>\n",
       "      <th>24</th>\n",
       "      <td>Psychic</td>\n",
       "      <td>Psychic</td>\n",
       "      <td>Normal</td>\n",
       "    </tr>\n",
       "    <tr>\n",
       "      <th>25</th>\n",
       "      <td>Water</td>\n",
       "      <td>Water</td>\n",
       "      <td>Water</td>\n",
       "    </tr>\n",
       "    <tr>\n",
       "      <th>26</th>\n",
       "      <td>Grass</td>\n",
       "      <td>Grass</td>\n",
       "      <td>Bug</td>\n",
       "    </tr>\n",
       "    <tr>\n",
       "      <th>27</th>\n",
       "      <td>Ground</td>\n",
       "      <td>Ground</td>\n",
       "      <td>Ground</td>\n",
       "    </tr>\n",
       "    <tr>\n",
       "      <th>28</th>\n",
       "      <td>Bug</td>\n",
       "      <td>Bug</td>\n",
       "      <td>Water</td>\n",
       "    </tr>\n",
       "    <tr>\n",
       "      <th>29</th>\n",
       "      <td>Water</td>\n",
       "      <td>Water</td>\n",
       "      <td>Normal</td>\n",
       "    </tr>\n",
       "    <tr>\n",
       "      <th>...</th>\n",
       "      <td>...</td>\n",
       "      <td>...</td>\n",
       "      <td>...</td>\n",
       "    </tr>\n",
       "    <tr>\n",
       "      <th>236756</th>\n",
       "      <td>Normal</td>\n",
       "      <td>Normal</td>\n",
       "      <td>Normal</td>\n",
       "    </tr>\n",
       "    <tr>\n",
       "      <th>236757</th>\n",
       "      <td>Normal</td>\n",
       "      <td>Normal</td>\n",
       "      <td>Normal</td>\n",
       "    </tr>\n",
       "    <tr>\n",
       "      <th>236758</th>\n",
       "      <td>Normal</td>\n",
       "      <td>Normal</td>\n",
       "      <td>Normal</td>\n",
       "    </tr>\n",
       "    <tr>\n",
       "      <th>236759</th>\n",
       "      <td>Normal</td>\n",
       "      <td>Normal</td>\n",
       "      <td>Normal</td>\n",
       "    </tr>\n",
       "    <tr>\n",
       "      <th>236760</th>\n",
       "      <td>Water</td>\n",
       "      <td>Water</td>\n",
       "      <td>Water</td>\n",
       "    </tr>\n",
       "    <tr>\n",
       "      <th>236761</th>\n",
       "      <td>Ghost</td>\n",
       "      <td>Ghost</td>\n",
       "      <td>Bug</td>\n",
       "    </tr>\n",
       "    <tr>\n",
       "      <th>236762</th>\n",
       "      <td>Normal</td>\n",
       "      <td>Normal</td>\n",
       "      <td>Bug</td>\n",
       "    </tr>\n",
       "    <tr>\n",
       "      <th>236763</th>\n",
       "      <td>Bug</td>\n",
       "      <td>Bug</td>\n",
       "      <td>Normal</td>\n",
       "    </tr>\n",
       "    <tr>\n",
       "      <th>236764</th>\n",
       "      <td>Bug</td>\n",
       "      <td>Bug</td>\n",
       "      <td>Normal</td>\n",
       "    </tr>\n",
       "    <tr>\n",
       "      <th>236765</th>\n",
       "      <td>Poison</td>\n",
       "      <td>Poison</td>\n",
       "      <td>Poison</td>\n",
       "    </tr>\n",
       "    <tr>\n",
       "      <th>236766</th>\n",
       "      <td>Bug</td>\n",
       "      <td>Bug</td>\n",
       "      <td>Bug</td>\n",
       "    </tr>\n",
       "    <tr>\n",
       "      <th>236767</th>\n",
       "      <td>Grass</td>\n",
       "      <td>Grass</td>\n",
       "      <td>Grass</td>\n",
       "    </tr>\n",
       "    <tr>\n",
       "      <th>236768</th>\n",
       "      <td>Fire</td>\n",
       "      <td>Fire</td>\n",
       "      <td>Ground</td>\n",
       "    </tr>\n",
       "    <tr>\n",
       "      <th>236769</th>\n",
       "      <td>Bug</td>\n",
       "      <td>Bug</td>\n",
       "      <td>Normal</td>\n",
       "    </tr>\n",
       "    <tr>\n",
       "      <th>236770</th>\n",
       "      <td>Normal</td>\n",
       "      <td>Normal</td>\n",
       "      <td>Poison</td>\n",
       "    </tr>\n",
       "    <tr>\n",
       "      <th>236771</th>\n",
       "      <td>Normal</td>\n",
       "      <td>Normal</td>\n",
       "      <td>Normal</td>\n",
       "    </tr>\n",
       "    <tr>\n",
       "      <th>236772</th>\n",
       "      <td>Bug</td>\n",
       "      <td>Bug</td>\n",
       "      <td>Bug</td>\n",
       "    </tr>\n",
       "    <tr>\n",
       "      <th>236773</th>\n",
       "      <td>Bug</td>\n",
       "      <td>Bug</td>\n",
       "      <td>Normal</td>\n",
       "    </tr>\n",
       "    <tr>\n",
       "      <th>236774</th>\n",
       "      <td>Grass</td>\n",
       "      <td>Grass</td>\n",
       "      <td>Normal</td>\n",
       "    </tr>\n",
       "    <tr>\n",
       "      <th>236775</th>\n",
       "      <td>Bug</td>\n",
       "      <td>Bug</td>\n",
       "      <td>Poison</td>\n",
       "    </tr>\n",
       "    <tr>\n",
       "      <th>236776</th>\n",
       "      <td>Normal</td>\n",
       "      <td>Normal</td>\n",
       "      <td>Bug</td>\n",
       "    </tr>\n",
       "    <tr>\n",
       "      <th>236777</th>\n",
       "      <td>Normal</td>\n",
       "      <td>Normal</td>\n",
       "      <td>Normal</td>\n",
       "    </tr>\n",
       "    <tr>\n",
       "      <th>236778</th>\n",
       "      <td>Normal</td>\n",
       "      <td>Normal</td>\n",
       "      <td>Normal</td>\n",
       "    </tr>\n",
       "    <tr>\n",
       "      <th>236779</th>\n",
       "      <td>Normal</td>\n",
       "      <td>Normal</td>\n",
       "      <td>Normal</td>\n",
       "    </tr>\n",
       "    <tr>\n",
       "      <th>236780</th>\n",
       "      <td>Bug</td>\n",
       "      <td>Bug</td>\n",
       "      <td>Bug</td>\n",
       "    </tr>\n",
       "    <tr>\n",
       "      <th>236781</th>\n",
       "      <td>Normal</td>\n",
       "      <td>Normal</td>\n",
       "      <td>Normal</td>\n",
       "    </tr>\n",
       "    <tr>\n",
       "      <th>236782</th>\n",
       "      <td>Ghost</td>\n",
       "      <td>Ghost</td>\n",
       "      <td>Normal</td>\n",
       "    </tr>\n",
       "    <tr>\n",
       "      <th>236783</th>\n",
       "      <td>Water</td>\n",
       "      <td>Water</td>\n",
       "      <td>Normal</td>\n",
       "    </tr>\n",
       "    <tr>\n",
       "      <th>236784</th>\n",
       "      <td>Normal</td>\n",
       "      <td>Normal</td>\n",
       "      <td>Normal</td>\n",
       "    </tr>\n",
       "    <tr>\n",
       "      <th>236785</th>\n",
       "      <td>Psychic</td>\n",
       "      <td>Psychic</td>\n",
       "      <td>Water</td>\n",
       "    </tr>\n",
       "  </tbody>\n",
       "</table>\n",
       "<p>236786 rows × 3 columns</p>\n",
       "</div>"
      ],
      "text/plain": [
       "         Actual decTree preds KNN_preds\n",
       "0        Normal        Normal    Normal\n",
       "1        Poison        Poison      Fire\n",
       "2       Psychic       Psychic   Psychic\n",
       "3        Ground        Ground    Ground\n",
       "4        Normal        Normal    Normal\n",
       "5       Psychic       Psychic    Poison\n",
       "6        Normal        Normal       Bug\n",
       "7        Normal        Normal    Normal\n",
       "8           Bug           Bug    Normal\n",
       "9         Grass         Grass    Normal\n",
       "10       Normal        Normal    Normal\n",
       "11        Water         Water     Water\n",
       "12      Psychic       Psychic       Bug\n",
       "13        Water         Water     Fairy\n",
       "14          Bug           Bug    Normal\n",
       "15       Normal        Normal    Normal\n",
       "16          Bug           Bug    Normal\n",
       "17      Psychic       Psychic    Poison\n",
       "18        Water         Water     Water\n",
       "19          Bug           Bug       Bug\n",
       "20          Bug           Bug    Normal\n",
       "21       Normal        Normal    Normal\n",
       "22       Normal        Normal    Normal\n",
       "23       Normal        Normal    Normal\n",
       "24      Psychic       Psychic    Normal\n",
       "25        Water         Water     Water\n",
       "26        Grass         Grass       Bug\n",
       "27       Ground        Ground    Ground\n",
       "28          Bug           Bug     Water\n",
       "29        Water         Water    Normal\n",
       "...         ...           ...       ...\n",
       "236756   Normal        Normal    Normal\n",
       "236757   Normal        Normal    Normal\n",
       "236758   Normal        Normal    Normal\n",
       "236759   Normal        Normal    Normal\n",
       "236760    Water         Water     Water\n",
       "236761    Ghost         Ghost       Bug\n",
       "236762   Normal        Normal       Bug\n",
       "236763      Bug           Bug    Normal\n",
       "236764      Bug           Bug    Normal\n",
       "236765   Poison        Poison    Poison\n",
       "236766      Bug           Bug       Bug\n",
       "236767    Grass         Grass     Grass\n",
       "236768     Fire          Fire    Ground\n",
       "236769      Bug           Bug    Normal\n",
       "236770   Normal        Normal    Poison\n",
       "236771   Normal        Normal    Normal\n",
       "236772      Bug           Bug       Bug\n",
       "236773      Bug           Bug    Normal\n",
       "236774    Grass         Grass    Normal\n",
       "236775      Bug           Bug    Poison\n",
       "236776   Normal        Normal       Bug\n",
       "236777   Normal        Normal    Normal\n",
       "236778   Normal        Normal    Normal\n",
       "236779   Normal        Normal    Normal\n",
       "236780      Bug           Bug       Bug\n",
       "236781   Normal        Normal    Normal\n",
       "236782    Ghost         Ghost    Normal\n",
       "236783    Water         Water    Normal\n",
       "236784   Normal        Normal    Normal\n",
       "236785  Psychic       Psychic     Water\n",
       "\n",
       "[236786 rows x 3 columns]"
      ]
     },
     "execution_count": 116,
     "metadata": {},
     "output_type": "execute_result"
    }
   ],
   "source": [
    "predictions_df"
   ]
  },
  {
   "cell_type": "code",
   "execution_count": 1,
   "metadata": {},
   "outputs": [
    {
     "ename": "NameError",
     "evalue": "name 'pokeTypes' is not defined",
     "output_type": "error",
     "traceback": [
      "\u001b[1;31m---------------------------------------------------------------------------\u001b[0m",
      "\u001b[1;31mNameError\u001b[0m                                 Traceback (most recent call last)",
      "\u001b[1;32m<ipython-input-1-40b45a0a7299>\u001b[0m in \u001b[0;36m<module>\u001b[1;34m\u001b[0m\n\u001b[0;32m      3\u001b[0m \u001b[1;31m# KNN\u001b[0m\u001b[1;33m\u001b[0m\u001b[1;33m\u001b[0m\u001b[1;33m\u001b[0m\u001b[0m\n\u001b[0;32m      4\u001b[0m \u001b[1;33m\u001b[0m\u001b[0m\n\u001b[1;32m----> 5\u001b[1;33m \u001b[0mfeatures\u001b[0m \u001b[1;33m=\u001b[0m \u001b[0mpokeTypes\u001b[0m\u001b[1;33m\u001b[0m\u001b[1;33m\u001b[0m\u001b[0m\n\u001b[0m\u001b[0;32m      6\u001b[0m \u001b[0mactual_nums\u001b[0m \u001b[1;33m=\u001b[0m \u001b[0mgetNumPerModel\u001b[0m\u001b[1;33m(\u001b[0m\u001b[1;34m\"Actual\"\u001b[0m\u001b[1;33m,\u001b[0m \u001b[0mpredictions_df\u001b[0m\u001b[1;33m)\u001b[0m\u001b[1;33m\u001b[0m\u001b[1;33m\u001b[0m\u001b[0m\n\u001b[0;32m      7\u001b[0m \u001b[0mknn_nums\u001b[0m \u001b[1;33m=\u001b[0m \u001b[0mgetNumPerModel\u001b[0m\u001b[1;33m(\u001b[0m\u001b[1;34m\"decTree preds\"\u001b[0m\u001b[1;33m,\u001b[0m \u001b[0mpredictions_df\u001b[0m\u001b[1;33m)\u001b[0m\u001b[1;33m\u001b[0m\u001b[1;33m\u001b[0m\u001b[0m\n",
      "\u001b[1;31mNameError\u001b[0m: name 'pokeTypes' is not defined"
     ]
    }
   ],
   "source": [
    "# Decision Tree\n",
    "\n",
    "# KNN\n",
    "\n",
    "features = pokeTypes\n",
    "actual_nums = getNumPerModel(\"Actual\", predictions_df)\n",
    "knn_nums = getNumPerModel(\"decTree preds\", predictions_df)\n",
    "\n",
    "plt.figure(figsize=(10,10))\n",
    "\n",
    "plt.barh(features, actual_nums, align='center', alpha=0.4, color=\"red\", label=\"Missed Occurrences\")\n",
    "plt.barh(features, knn_nums, align='center', alpha=0.4, color=\"yellow\", label=\"Over Prediction\")\n",
    "\n",
    "\n",
    "plt.yticks(features, features)\n",
    "plt.xlabel('Number of Occurrences')\n",
    "plt.title('Actual Pokemon Occurrences versus Decision Tree Preds')\n",
    "\n",
    "plt.legend()\n",
    "\n",
    "plt.show()"
   ]
  },
  {
   "cell_type": "code",
   "execution_count": null,
   "metadata": {},
   "outputs": [],
   "source": []
  },
  {
   "cell_type": "code",
   "execution_count": null,
   "metadata": {},
   "outputs": [],
   "source": []
  },
  {
   "cell_type": "code",
   "execution_count": null,
   "metadata": {},
   "outputs": [],
   "source": []
  },
  {
   "cell_type": "code",
   "execution_count": null,
   "metadata": {},
   "outputs": [],
   "source": []
  },
  {
   "cell_type": "code",
   "execution_count": null,
   "metadata": {},
   "outputs": [],
   "source": []
  }
 ],
 "metadata": {
  "kernelspec": {
   "display_name": "Python 3",
   "language": "python",
   "name": "python3"
  },
  "language_info": {
   "codemirror_mode": {
    "name": "ipython",
    "version": 3
   },
   "file_extension": ".py",
   "mimetype": "text/x-python",
   "name": "python",
   "nbconvert_exporter": "python",
   "pygments_lexer": "ipython3",
   "version": "3.7.1"
  }
 },
 "nbformat": 4,
 "nbformat_minor": 2
}
