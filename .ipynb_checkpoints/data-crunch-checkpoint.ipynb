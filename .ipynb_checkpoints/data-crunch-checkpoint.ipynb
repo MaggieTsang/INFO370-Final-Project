{
 "cells": [
  {
   "cell_type": "markdown",
   "metadata": {},
   "source": [
    "# Import Data\n",
    "\n",
    "<br>\n",
    "<br>\n",
    "\n",
    "Below are brief explanations of what data we are importing and what these variables represent\n",
    "* `ALL_DATA` _(data frame)_ - is our main data set \n",
    "* `poke_types` _(data frame)_ - is a seperate data set that contains a mapping of Pokemon IDs to pokemon name and types. This will be important as our main dependant variable will be **Pokemon type**\n",
    "* `pokemonId_ALL` _(list/array)_ - of all unique pokemon IDs that exist in `ALL_DATA` from smallest to biggest number. \n",
    "\n",
    "<br>\n",
    "<br>\n",
    "<br>\n",
    "<br>\n"
   ]
  },
  {
   "cell_type": "code",
   "execution_count": 13,
   "metadata": {},
   "outputs": [],
   "source": [
    "import pandas as pd # data frames\n",
    "import numpy as np # ____number generation\n",
    "import statsmodels.formula.api as smf # for linear modeling\n",
    "import matplotlib.pyplot as plt # plotting\n",
    "\n",
    "import os.path # check if data file already exists\n",
    "import json # save dictionary strucs"
   ]
  },
  {
   "cell_type": "code",
   "execution_count": 14,
   "metadata": {},
   "outputs": [
    {
     "ename": "KeyboardInterrupt",
     "evalue": "",
     "output_type": "error",
     "traceback": [
      "\u001b[0;31m---------------------------------------------------------------------------\u001b[0m",
      "\u001b[0;31mKeyboardInterrupt\u001b[0m                         Traceback (most recent call last)",
      "\u001b[0;32m<ipython-input-14-9a3365dbae39>\u001b[0m in \u001b[0;36m<module>\u001b[0;34m\u001b[0m\n\u001b[0;32m----> 1\u001b[0;31m \u001b[0mALL_DATA\u001b[0m \u001b[0;34m=\u001b[0m \u001b[0mpd\u001b[0m\u001b[0;34m.\u001b[0m\u001b[0mread_csv\u001b[0m\u001b[0;34m(\u001b[0m\u001b[0;34m'data/300k.csv'\u001b[0m\u001b[0;34m)\u001b[0m\u001b[0;34m\u001b[0m\u001b[0;34m\u001b[0m\u001b[0m\n\u001b[0m",
      "\u001b[0;32m/anaconda3/lib/python3.7/site-packages/pandas/io/parsers.py\u001b[0m in \u001b[0;36mparser_f\u001b[0;34m(filepath_or_buffer, sep, delimiter, header, names, index_col, usecols, squeeze, prefix, mangle_dupe_cols, dtype, engine, converters, true_values, false_values, skipinitialspace, skiprows, nrows, na_values, keep_default_na, na_filter, verbose, skip_blank_lines, parse_dates, infer_datetime_format, keep_date_col, date_parser, dayfirst, iterator, chunksize, compression, thousands, decimal, lineterminator, quotechar, quoting, escapechar, comment, encoding, dialect, tupleize_cols, error_bad_lines, warn_bad_lines, skipfooter, doublequote, delim_whitespace, low_memory, memory_map, float_precision)\u001b[0m\n\u001b[1;32m    676\u001b[0m                     skip_blank_lines=skip_blank_lines)\n\u001b[1;32m    677\u001b[0m \u001b[0;34m\u001b[0m\u001b[0m\n\u001b[0;32m--> 678\u001b[0;31m         \u001b[0;32mreturn\u001b[0m \u001b[0m_read\u001b[0m\u001b[0;34m(\u001b[0m\u001b[0mfilepath_or_buffer\u001b[0m\u001b[0;34m,\u001b[0m \u001b[0mkwds\u001b[0m\u001b[0;34m)\u001b[0m\u001b[0;34m\u001b[0m\u001b[0;34m\u001b[0m\u001b[0m\n\u001b[0m\u001b[1;32m    679\u001b[0m \u001b[0;34m\u001b[0m\u001b[0m\n\u001b[1;32m    680\u001b[0m     \u001b[0mparser_f\u001b[0m\u001b[0;34m.\u001b[0m\u001b[0m__name__\u001b[0m \u001b[0;34m=\u001b[0m \u001b[0mname\u001b[0m\u001b[0;34m\u001b[0m\u001b[0;34m\u001b[0m\u001b[0m\n",
      "\u001b[0;32m/anaconda3/lib/python3.7/site-packages/pandas/io/parsers.py\u001b[0m in \u001b[0;36m_read\u001b[0;34m(filepath_or_buffer, kwds)\u001b[0m\n\u001b[1;32m    444\u001b[0m \u001b[0;34m\u001b[0m\u001b[0m\n\u001b[1;32m    445\u001b[0m     \u001b[0;32mtry\u001b[0m\u001b[0;34m:\u001b[0m\u001b[0;34m\u001b[0m\u001b[0;34m\u001b[0m\u001b[0m\n\u001b[0;32m--> 446\u001b[0;31m         \u001b[0mdata\u001b[0m \u001b[0;34m=\u001b[0m \u001b[0mparser\u001b[0m\u001b[0;34m.\u001b[0m\u001b[0mread\u001b[0m\u001b[0;34m(\u001b[0m\u001b[0mnrows\u001b[0m\u001b[0;34m)\u001b[0m\u001b[0;34m\u001b[0m\u001b[0;34m\u001b[0m\u001b[0m\n\u001b[0m\u001b[1;32m    447\u001b[0m     \u001b[0;32mfinally\u001b[0m\u001b[0;34m:\u001b[0m\u001b[0;34m\u001b[0m\u001b[0;34m\u001b[0m\u001b[0m\n\u001b[1;32m    448\u001b[0m         \u001b[0mparser\u001b[0m\u001b[0;34m.\u001b[0m\u001b[0mclose\u001b[0m\u001b[0;34m(\u001b[0m\u001b[0;34m)\u001b[0m\u001b[0;34m\u001b[0m\u001b[0;34m\u001b[0m\u001b[0m\n",
      "\u001b[0;32m/anaconda3/lib/python3.7/site-packages/pandas/io/parsers.py\u001b[0m in \u001b[0;36mread\u001b[0;34m(self, nrows)\u001b[0m\n\u001b[1;32m   1034\u001b[0m                 \u001b[0;32mraise\u001b[0m \u001b[0mValueError\u001b[0m\u001b[0;34m(\u001b[0m\u001b[0;34m'skipfooter not supported for iteration'\u001b[0m\u001b[0;34m)\u001b[0m\u001b[0;34m\u001b[0m\u001b[0;34m\u001b[0m\u001b[0m\n\u001b[1;32m   1035\u001b[0m \u001b[0;34m\u001b[0m\u001b[0m\n\u001b[0;32m-> 1036\u001b[0;31m         \u001b[0mret\u001b[0m \u001b[0;34m=\u001b[0m \u001b[0mself\u001b[0m\u001b[0;34m.\u001b[0m\u001b[0m_engine\u001b[0m\u001b[0;34m.\u001b[0m\u001b[0mread\u001b[0m\u001b[0;34m(\u001b[0m\u001b[0mnrows\u001b[0m\u001b[0;34m)\u001b[0m\u001b[0;34m\u001b[0m\u001b[0;34m\u001b[0m\u001b[0m\n\u001b[0m\u001b[1;32m   1037\u001b[0m \u001b[0;34m\u001b[0m\u001b[0m\n\u001b[1;32m   1038\u001b[0m         \u001b[0;31m# May alter columns / col_dict\u001b[0m\u001b[0;34m\u001b[0m\u001b[0;34m\u001b[0m\u001b[0;34m\u001b[0m\u001b[0m\n",
      "\u001b[0;32m/anaconda3/lib/python3.7/site-packages/pandas/io/parsers.py\u001b[0m in \u001b[0;36mread\u001b[0;34m(self, nrows)\u001b[0m\n\u001b[1;32m   1846\u001b[0m     \u001b[0;32mdef\u001b[0m \u001b[0mread\u001b[0m\u001b[0;34m(\u001b[0m\u001b[0mself\u001b[0m\u001b[0;34m,\u001b[0m \u001b[0mnrows\u001b[0m\u001b[0;34m=\u001b[0m\u001b[0;32mNone\u001b[0m\u001b[0;34m)\u001b[0m\u001b[0;34m:\u001b[0m\u001b[0;34m\u001b[0m\u001b[0;34m\u001b[0m\u001b[0m\n\u001b[1;32m   1847\u001b[0m         \u001b[0;32mtry\u001b[0m\u001b[0;34m:\u001b[0m\u001b[0;34m\u001b[0m\u001b[0;34m\u001b[0m\u001b[0m\n\u001b[0;32m-> 1848\u001b[0;31m             \u001b[0mdata\u001b[0m \u001b[0;34m=\u001b[0m \u001b[0mself\u001b[0m\u001b[0;34m.\u001b[0m\u001b[0m_reader\u001b[0m\u001b[0;34m.\u001b[0m\u001b[0mread\u001b[0m\u001b[0;34m(\u001b[0m\u001b[0mnrows\u001b[0m\u001b[0;34m)\u001b[0m\u001b[0;34m\u001b[0m\u001b[0;34m\u001b[0m\u001b[0m\n\u001b[0m\u001b[1;32m   1849\u001b[0m         \u001b[0;32mexcept\u001b[0m \u001b[0mStopIteration\u001b[0m\u001b[0;34m:\u001b[0m\u001b[0;34m\u001b[0m\u001b[0;34m\u001b[0m\u001b[0m\n\u001b[1;32m   1850\u001b[0m             \u001b[0;32mif\u001b[0m \u001b[0mself\u001b[0m\u001b[0;34m.\u001b[0m\u001b[0m_first_chunk\u001b[0m\u001b[0;34m:\u001b[0m\u001b[0;34m\u001b[0m\u001b[0;34m\u001b[0m\u001b[0m\n",
      "\u001b[0;32mpandas/_libs/parsers.pyx\u001b[0m in \u001b[0;36mpandas._libs.parsers.TextReader.read\u001b[0;34m()\u001b[0m\n",
      "\u001b[0;32mpandas/_libs/parsers.pyx\u001b[0m in \u001b[0;36mpandas._libs.parsers.TextReader._read_low_memory\u001b[0;34m()\u001b[0m\n",
      "\u001b[0;32mpandas/_libs/parsers.pyx\u001b[0m in \u001b[0;36mpandas._libs.parsers.TextReader._read_rows\u001b[0;34m()\u001b[0m\n",
      "\u001b[0;32mpandas/_libs/parsers.pyx\u001b[0m in \u001b[0;36mpandas._libs.parsers.TextReader._convert_column_data\u001b[0;34m()\u001b[0m\n",
      "\u001b[0;32mpandas/_libs/parsers.pyx\u001b[0m in \u001b[0;36mpandas._libs.parsers.TextReader._convert_tokens\u001b[0;34m()\u001b[0m\n",
      "\u001b[0;32mpandas/_libs/parsers.pyx\u001b[0m in \u001b[0;36mpandas._libs.parsers.TextReader._convert_with_dtype\u001b[0;34m()\u001b[0m\n",
      "\u001b[0;32m/anaconda3/lib/python3.7/site-packages/pandas/core/dtypes/common.py\u001b[0m in \u001b[0;36mis_integer_dtype\u001b[0;34m(arr_or_dtype)\u001b[0m\n\u001b[1;32m    809\u001b[0m \u001b[0;34m\u001b[0m\u001b[0m\n\u001b[1;32m    810\u001b[0m \u001b[0;34m\u001b[0m\u001b[0m\n\u001b[0;32m--> 811\u001b[0;31m \u001b[0;32mdef\u001b[0m \u001b[0mis_integer_dtype\u001b[0m\u001b[0;34m(\u001b[0m\u001b[0marr_or_dtype\u001b[0m\u001b[0;34m)\u001b[0m\u001b[0;34m:\u001b[0m\u001b[0;34m\u001b[0m\u001b[0;34m\u001b[0m\u001b[0m\n\u001b[0m\u001b[1;32m    812\u001b[0m     \"\"\"\n\u001b[1;32m    813\u001b[0m     \u001b[0mCheck\u001b[0m \u001b[0mwhether\u001b[0m \u001b[0mthe\u001b[0m \u001b[0mprovided\u001b[0m \u001b[0marray\u001b[0m \u001b[0;32mor\u001b[0m \u001b[0mdtype\u001b[0m \u001b[0;32mis\u001b[0m \u001b[0mof\u001b[0m \u001b[0man\u001b[0m \u001b[0minteger\u001b[0m \u001b[0mdtype\u001b[0m\u001b[0;34m.\u001b[0m\u001b[0;34m\u001b[0m\u001b[0;34m\u001b[0m\u001b[0m\n",
      "\u001b[0;31mKeyboardInterrupt\u001b[0m: "
     ]
    }
   ],
   "source": [
    "ALL_DATA = pd.read_csv('data/300k.csv')"
   ]
  },
  {
   "cell_type": "code",
   "execution_count": null,
   "metadata": {},
   "outputs": [],
   "source": [
    "poke_types = pd.read_csv('data/pokeId.csv')\n",
    "poke_types = poke_types[['#', \"Name\", \"Type 1\", \"Type 2\"]]\n",
    "pokemonId_ALL = set(ALL_DATA.pokemonId)"
   ]
  },
  {
   "cell_type": "markdown",
   "metadata": {},
   "source": [
    "<br>\n",
    "<br>\n",
    "<br>\n",
    "\n",
    "## Small Helper Functions"
   ]
  },
  {
   "cell_type": "code",
   "execution_count": 19,
   "metadata": {},
   "outputs": [],
   "source": [
    "def encode_type_data(data):\n",
    "    \"\"\"\n",
    "    Takes in Type data, Returns an array of encoded Pokemon Type data\n",
    "    \"\"\"\n",
    "    unique_types = list(data.unique())\n",
    "    results = []\n",
    "    for val in data:\n",
    "        results.append(unique_types.index(val))\n",
    "    return results"
   ]
  },
  {
   "cell_type": "code",
   "execution_count": null,
   "metadata": {
    "scrolled": true
   },
   "outputs": [],
   "source": [
    "def printAllFeatures():\n",
    "    cols = ALL_DATA.columns\n",
    "    for col in cols:\n",
    "        print(col)"
   ]
  },
  {
   "cell_type": "markdown",
   "metadata": {},
   "source": [
    "<br>\n",
    "<br>\n",
    "<br>\n",
    "\n",
    "## Prepare Data"
   ]
  },
  {
   "cell_type": "code",
   "execution_count": null,
   "metadata": {
    "code_folding": [],
    "scrolled": true
   },
   "outputs": [],
   "source": [
    "# Create a mapping of IDs to type, secondary type, and name. We need to do this in order to add the\n",
    "# appropriate type to each pokemon in our main data set.\n",
    "\n",
    "pokeId_toType = {}\n",
    "\n",
    "if not os.path.exists(\"data/pokeId_toType.json\"): \n",
    "    \n",
    "    print(\"Looks like you don't have the Pokemon ID to pokemon Type+Name dictionary.\\nLet me go build that for you.\\nStarting... \")\n",
    "    \n",
    "    # build dictionary and save it for future uses\n",
    "    for index, row in poke_types.iterrows():\n",
    "        if row[\"#\"] in pokemonId_ALL: #only add poke that are in main data set\n",
    "            pokeId_toType[str(row[\"#\"])] = [row[\"Name\"] ,row[\"Type 1\"], row[\"Type 2\"]]\n",
    "    \n",
    "    print(\"Saving dictionary locally for future uses.\")\n",
    "    with open(\"data/pokeId_toType.json\", 'w') as f:\n",
    "        json.dump(pokeId_toType, f)\n",
    "    print(\"...Done\")\n",
    "else:\n",
    "    print(\"Good, you already have the Poke ID to Poke Type+Name dict. Move on.\")    \n",
    "    with open(\"data/pokeId_toType.json\") as f:\n",
    "        pokeId_toType = json.load(f)"
   ]
  },
  {
   "cell_type": "code",
   "execution_count": null,
   "metadata": {
    "scrolled": true
   },
   "outputs": [],
   "source": [
    "# Check if you have the merged data set. If you do not then build and save it locally.\n",
    "# The print statements do a good job of informing what's going on.\n",
    "\n",
    "if not os.path.exists(\"data/merged.csv\"): \n",
    "    \n",
    "    print(\"Hey looks like you're missing the merged data, let me build that for you, it'll take 2-5 minutes probably.\\n\")\n",
    "    \n",
    "    # Add the new columns\n",
    "    ALL_DATA[\"Name\"] = \"\"\n",
    "    ALL_DATA[\"Type\"] = \"\" \n",
    "\n",
    "    def update_row(row):\n",
    "        tempTypes = pokeId_toType[str(row[\"pokemonId\"])]   \n",
    "        listy = [tempTypes[0], tempTypes[1]]\n",
    "        return pd.Series(listy)\n",
    "\n",
    "    print(\"Merging data...\")\n",
    "    ALL_DATA[['Name', 'Type']] = ALL_DATA.apply(update_row, axis=1)\n",
    "    print(\"Done merging data.\\n\")\n",
    "\n",
    "    print(\"Saving merge data set to ./data/merged.csv\")\n",
    "    ALL_DATA.to_csv(\"data/merged.csv\",index=False)\n",
    "    print(\"\\n...Done saving data. Move on now.\\n\")\n",
    "    ALL_DATA.head()\n",
    "else:\n",
    "    ALL_DATA = pd.read_csv('data/merged.csv')\n",
    "    print(\"Good job, you already have the merged data. Move on.\")"
   ]
  },
  {
   "cell_type": "markdown",
   "metadata": {},
   "source": [
    "<br>\n",
    "<br>\n",
    "<br>\n",
    "\n",
    "### Encoding\n",
    "\n",
    "We cannot use categorical data (strings) in feature selection or regressions.\n",
    "The solution to this is to turn strings into numerical data mappings in order to be able to process them.\n",
    "Based on my research there are three beginner friendly functions that do this. \n",
    "\n",
    "`sklearn` has the functions `LabelEncoder()` and `OneHotEncoder()` -- and `pandas` has its own functions `get_dummies()`.\n",
    "\n",
    "I selected the `get_dummies()` as both it and my data frames are managed with the `pandas` library."
   ]
  },
  {
   "cell_type": "code",
   "execution_count": null,
   "metadata": {
    "scrolled": true
   },
   "outputs": [],
   "source": [
    "DATA_encoded = ALL_DATA.dropna()\n",
    "\n",
    "# These columns are of type objects but are not helpful to us.\n",
    "DATA_encoded = DATA_encoded.drop([\"appearedLocalTime\", \"appearedDayOfWeek\", \"_id\", \"city\", \"weatherIcon\", \"Name\"], axis=1) ########## Question from Maggie - Do we want to keep name, would it help our results or nah? \n",
    "\n",
    "# it's an object column but should be float: convert it.\n",
    "DATA_encoded[\"pokestopDistanceKm\"] = DATA_encoded[\"pokestopDistanceKm\"].apply(pd.to_numeric, downcast='float', errors='coerce')"
   ]
  },
  {
   "cell_type": "code",
   "execution_count": null,
   "metadata": {},
   "outputs": [],
   "source": [
    "# anything of type object seems to be categorical, encode it.\n",
    "\n",
    "# produce dummies for categorical columns, concat them to data, remove originals\n",
    "\n",
    "# get_dummies() code:\n",
    "# https://towardsdatascience.com/the-dummys-guide-to-creating-dummy-variables-f21faddb1d40\n",
    "\n",
    "cols_toNotTouch = [\"Type\"]\n",
    "\n",
    "for col in DATA_encoded.columns:\n",
    "    if (str(DATA_encoded[col].dtype) == 'object') and (not(col in cols_toNotTouch)):\n",
    "        \n",
    "        print(\"Encoding <\" + col + \">.\")\n",
    "        dummy = pd.get_dummies(DATA_encoded[col])\n",
    "        DATA_encoded = DATA_encoded.drop([col], axis=1)\n",
    "        DATA_encoded = pd.concat([DATA_encoded, dummy], axis=1)\n",
    "print(\"...Done encoding.\")"
   ]
  },
  {
   "cell_type": "markdown",
   "metadata": {},
   "source": [
    "#### ONLY ONE SPLIT"
   ]
  },
  {
   "cell_type": "code",
   "execution_count": null,
   "metadata": {
    "scrolled": true
   },
   "outputs": [],
   "source": [
    "# Split data\n",
    "from sklearn.model_selection import train_test_split\n",
    "\n",
    "train_X, test_X, train_Y, test_Y = train_test_split(\n",
    "                                       DATA_encoded,      # features\n",
    "                                        DATA_encoded.Type,                               \n",
    "#     ALL_DATA[\"Type\"],    # outcome ######################### CHANGE TO ---> DATA_encoded.Type \n",
    "                                       test_size=0.20, # percentage of data to use as the test set\n",
    "                                       random_state=15 # set a random state so it is consistent (not required!)\n",
    "                                                                            )\n",
    "\n",
    "print(\"train features shape\", train_X.shape)\n",
    "print(\"test features shape\", test_X.shape)\n",
    "print()\n",
    "print(\"train outcomes shape\", train_Y.shape)\n",
    "print(\"test outcomes shape\", test_Y.shape)"
   ]
  },
  {
   "cell_type": "code",
   "execution_count": null,
   "metadata": {},
   "outputs": [],
   "source": []
  },
  {
   "cell_type": "code",
   "execution_count": null,
   "metadata": {},
   "outputs": [],
   "source": [
    "train_X = train_X.dropna()\n",
    "train_Y = train_X[\"Type\"]\n",
    "\n",
    "test_X = train_X.dropna()\n",
    "test_Y = train_X[\"Type\"]\n",
    "\n",
    "train_X_for_modeling = train_X.copy()\n",
    "test_X_for_modeling = test_X.copy()\n",
    "\n",
    "\n",
    "train_X_results = train_X.Type\n",
    "test_X_results = test_X.Type\n",
    "\n",
    "\n",
    "# Put this in if (has Type column)\n",
    "train_X = train_X.drop([\"Type\"], axis=1)\n",
    "test_X = test_X.drop([\"Type\"], axis=1)"
   ]
  },
  {
   "cell_type": "code",
   "execution_count": null,
   "metadata": {},
   "outputs": [],
   "source": []
  },
  {
   "cell_type": "code",
   "execution_count": null,
   "metadata": {},
   "outputs": [],
   "source": []
  },
  {
   "cell_type": "markdown",
   "metadata": {
    "scrolled": true
   },
   "source": [
    "# Feature Selection\n",
    "\n",
    "forward feature selection using Lasso regression:\n",
    "https://mikulskibartosz.name/forward-feature-selection-in-scikit-learn-f6476e474ddd\n",
    "\n",
    "* Uses regularization to prevent overfitting\n",
    "* Sets the coefficients of unimportant variables to 0\n",
    "* Don't forget to smash that subscribe button\n",
    "* For every 'Like' on this jupyter notebook, an INFO student yodels \"The iSchool is MySchool!\"\n",
    "* Delete the last three bullets before submitting"
   ]
  },
  {
   "cell_type": "markdown",
   "metadata": {},
   "source": [
    "### Made a change in 'outcomes' variable"
   ]
  },
  {
   "cell_type": "code",
   "execution_count": 15,
   "metadata": {},
   "outputs": [],
   "source": []
  },
  {
   "cell_type": "code",
   "execution_count": 20,
   "metadata": {
    "scrolled": true
   },
   "outputs": [],
   "source": [
    "# train_X = train_X.dropna()\n",
    "\n",
    "# train_X_results = train_X2.Type\n",
    "# train_X = train_X2.drop(\"Type\", axis=1)\n",
    "\n",
    "# test_X_results = test_X2.Type\n",
    "# test_X2 = test_X2.drop(\"Type\", axis=1)"
   ]
  },
  {
   "cell_type": "code",
   "execution_count": null,
   "metadata": {},
   "outputs": [],
   "source": []
  },
  {
   "cell_type": "code",
   "execution_count": 22,
   "metadata": {
    "scrolled": false
   },
   "outputs": [
    {
     "name": "stderr",
     "output_type": "stream",
     "text": [
      "/anaconda3/lib/python3.7/site-packages/sklearn/linear_model/coordinate_descent.py:492: ConvergenceWarning: Objective did not converge. You might want to increase the number of iterations. Fitting data with very small alpha may cause precision problems.\n",
      "  ConvergenceWarning)\n"
     ]
    },
    {
     "data": {
      "text/plain": [
       "array([[-93.294797, 398, 1186, 266.19315],\n",
       "       [-115.074725, 375, 1144, 1361.0005],\n",
       "       [-1.897839, 385, 1190, 3622.8896],\n",
       "       ...,\n",
       "       [-92.652612, 394, 1167, 21.806335],\n",
       "       [-113.44095, 408, 1219, 761.8856],\n",
       "       [14.472905, 387, 1178, 1055.8982]], dtype=object)"
      ]
     },
     "execution_count": 22,
     "metadata": {},
     "output_type": "execute_result"
    }
   ],
   "source": [
    "# Code Reference: https://mikulskibartosz.name/forward-feature-selection-in-scikit-learn-f6476e474ddd\n",
    "import seaborn as sns\n",
    "import pandas as pd\n",
    "from sklearn.feature_selection import SelectFromModel\n",
    "from sklearn.linear_model import Lasso\n",
    "\n",
    "X = train_X.drop([\"pokemonId\", \"class\"], axis=1) # Drop columns that directly affect Pokemon Type\n",
    "y = encode_type_data(train_X_results)\n",
    "estimator = Lasso()\n",
    "featureSelection = SelectFromModel(estimator)\n",
    "featureSelection.fit(X, y)\n",
    "selectedFeatures = featureSelection.transform(X)\n",
    "selectedFeatures\n",
    "\n"
   ]
  },
  {
   "cell_type": "code",
   "execution_count": 23,
   "metadata": {},
   "outputs": [
    {
     "data": {
      "text/plain": [
       "Index(['longitude', 'sunriseMinutesMidnight', 'sunsetMinutesMidnight',\n",
       "       'population_density'],\n",
       "      dtype='object')"
      ]
     },
     "execution_count": 23,
     "metadata": {},
     "output_type": "execute_result"
    }
   ],
   "source": [
    "# Get features that most affect the Pokemon Type predictions\n",
    "X.columns[featureSelection.get_support()]\n"
   ]
  },
  {
   "cell_type": "markdown",
   "metadata": {},
   "source": [
    "## Ending Notes/Ideas:\n",
    "\n",
    "* The line above returns columns - 'longitude', 'sunriseMinutesMidnight', 'sunsetMinutesMidnight', 'population_density'\n",
    "* Drop irrelevant columns in 'X' above for a more narrow scope of features when modeling iterations (out of all the columns, which weather data is best etc.)\n",
    "* Explain why regular feature selection would not work on oue categorical data."
   ]
  },
  {
   "cell_type": "markdown",
   "metadata": {},
   "source": [
    "# Modeling\n",
    "---"
   ]
  },
  {
   "cell_type": "code",
   "execution_count": 51,
   "metadata": {},
   "outputs": [],
   "source": [
    "predictions_df = pd.DataFrame()\n",
    "predictions_df[\"Actual\"] = list(test_Y)\n",
    "\n",
    "all_accuracy_scores = []\n",
    "all_accuracy_models = [\"Decision Tree\", \"KNN Classifier\", \"SVC Regression\"]"
   ]
  },
  {
   "cell_type": "markdown",
   "metadata": {},
   "source": [
    "### Decision Tree\n",
    "\n",
    "Using max depth of 15 results in a 100% accuracy score.\n",
    "It would be worth exporting the decision tree in order to see how it's coming to conclusions.\n",
    "<br>"
   ]
  },
  {
   "cell_type": "code",
   "execution_count": 52,
   "metadata": {},
   "outputs": [
    {
     "data": {
      "text/plain": [
       "1.0"
      ]
     },
     "execution_count": 52,
     "metadata": {},
     "output_type": "execute_result"
    }
   ],
   "source": [
    "from sklearn.tree import DecisionTreeClassifier\n",
    "from sklearn.metrics import accuracy_score\n",
    "\n",
    "dtree_model = DecisionTreeClassifier(max_depth = 15).fit(train_X, train_Y) \n",
    "dtree_predictions = dtree_model.predict(test_X)\n",
    "predictions_df[\"decTree preds\"]  = list(dtree_predictions)\n",
    "score = accuracy_score(test_Y, dtree_predictions)\n",
    "all_accuracy_scores.append(score)\n",
    "score"
   ]
  },
  {
   "cell_type": "code",
   "execution_count": null,
   "metadata": {},
   "outputs": [],
   "source": []
  },
  {
   "cell_type": "markdown",
   "metadata": {},
   "source": [
    "### KNN Neighbors"
   ]
  },
  {
   "cell_type": "code",
   "execution_count": 53,
   "metadata": {
    "scrolled": false
   },
   "outputs": [
    {
     "name": "stdout",
     "output_type": "stream",
     "text": [
      "0.5583480442255877\n"
     ]
    }
   ],
   "source": [
    "from sklearn.neighbors import KNeighborsClassifier\n",
    "\n",
    "knn_clf = KNeighborsClassifier(n_neighbors=8, weights=\"uniform\")\n",
    "knn_model = knn_clf.fit(train_X, train_Y)\n",
    "preds = knn_model.predict(test_X)\n",
    "predictions_df[\"KNN_preds\"] = preds\n",
    "score = accuracy_score(test_Y, preds)\n",
    "all_accuracy_scores.append(score)\n",
    "print(score)"
   ]
  },
  {
   "cell_type": "code",
   "execution_count": 44,
   "metadata": {},
   "outputs": [
    {
     "data": {
      "text/html": [
       "<div>\n",
       "<style scoped>\n",
       "    .dataframe tbody tr th:only-of-type {\n",
       "        vertical-align: middle;\n",
       "    }\n",
       "\n",
       "    .dataframe tbody tr th {\n",
       "        vertical-align: top;\n",
       "    }\n",
       "\n",
       "    .dataframe thead th {\n",
       "        text-align: right;\n",
       "    }\n",
       "</style>\n",
       "<table border=\"1\" class=\"dataframe\">\n",
       "  <thead>\n",
       "    <tr style=\"text-align: right;\">\n",
       "      <th></th>\n",
       "      <th>Actual</th>\n",
       "      <th>decTree preds</th>\n",
       "      <th>KNN_preds</th>\n",
       "    </tr>\n",
       "  </thead>\n",
       "  <tbody>\n",
       "    <tr>\n",
       "      <th>0</th>\n",
       "      <td>Normal</td>\n",
       "      <td>Normal</td>\n",
       "      <td>Normal</td>\n",
       "    </tr>\n",
       "    <tr>\n",
       "      <th>1</th>\n",
       "      <td>Poison</td>\n",
       "      <td>Poison</td>\n",
       "      <td>Fire</td>\n",
       "    </tr>\n",
       "    <tr>\n",
       "      <th>2</th>\n",
       "      <td>Psychic</td>\n",
       "      <td>Psychic</td>\n",
       "      <td>Psychic</td>\n",
       "    </tr>\n",
       "    <tr>\n",
       "      <th>3</th>\n",
       "      <td>Ground</td>\n",
       "      <td>Ground</td>\n",
       "      <td>Ground</td>\n",
       "    </tr>\n",
       "    <tr>\n",
       "      <th>4</th>\n",
       "      <td>Normal</td>\n",
       "      <td>Normal</td>\n",
       "      <td>Normal</td>\n",
       "    </tr>\n",
       "  </tbody>\n",
       "</table>\n",
       "</div>"
      ],
      "text/plain": [
       "    Actual decTree preds KNN_preds\n",
       "0   Normal        Normal    Normal\n",
       "1   Poison        Poison      Fire\n",
       "2  Psychic       Psychic   Psychic\n",
       "3   Ground        Ground    Ground\n",
       "4   Normal        Normal    Normal"
      ]
     },
     "execution_count": 44,
     "metadata": {},
     "output_type": "execute_result"
    }
   ],
   "source": [
    "predictions_df.head()"
   ]
  },
  {
   "cell_type": "markdown",
   "metadata": {},
   "source": [
    "## Multiclass regression"
   ]
  },
  {
   "cell_type": "markdown",
   "metadata": {},
   "source": [
    "### SVC Regression\n",
    "\n",
    "Meant for working with categorical data.\n",
    "Grab subset sample data for SVC regression, takes too long otherwise."
   ]
  },
  {
   "cell_type": "code",
   "execution_count": 46,
   "metadata": {},
   "outputs": [],
   "source": [
    "sample_train_X = train_X_for_modeling.sample(frac=0.01)\n",
    "sample_train_Y = sample_train_X.Type\n",
    "sample_train_X = sample_train_X.drop(\"Type\", axis=1)\n",
    "\n",
    "sample_test_X = test_X_for_modeling.sample(frac=0.01)\n",
    "sample_test_Y = sample_test_X.Type\n",
    "sample_test_X = sample_test_X.drop(\"Type\", axis=1)"
   ]
  },
  {
   "cell_type": "code",
   "execution_count": 47,
   "metadata": {},
   "outputs": [],
   "source": [
    "# SVC gets its own data frame because its based on sample data, and not the entire test data. Mismatch on rows would happen if we tried to merge.\n",
    "svc_df = pd.DataFrame()\n",
    "svc_df[\"Actual\"] = list(sample_test_Y)"
   ]
  },
  {
   "cell_type": "code",
   "execution_count": 48,
   "metadata": {},
   "outputs": [],
   "source": [
    "encoded_sample_train_Y = encode_type_data(sample_train_Y)\n",
    "encoded_sample_test_Y = encode_type_data(sample_test_Y)"
   ]
  },
  {
   "cell_type": "code",
   "execution_count": 49,
   "metadata": {},
   "outputs": [
    {
     "name": "stderr",
     "output_type": "stream",
     "text": [
      "/anaconda3/lib/python3.7/site-packages/sklearn/svm/base.py:196: FutureWarning: The default value of gamma will change from 'auto' to 'scale' in version 0.22 to account better for unscaled features. Set gamma explicitly to 'auto' or 'scale' to avoid this warning.\n",
      "  \"avoid this warning.\", FutureWarning)\n"
     ]
    },
    {
     "name": "stdout",
     "output_type": "stream",
     "text": [
      "SVC accuracy: 0.19425675675675674\n"
     ]
    }
   ],
   "source": [
    "from sklearn.svm import SVC \n",
    "svm_model_linear = SVC(C = 1).fit(sample_train_X, encoded_sample_train_Y) \n",
    "svm_predictions = svm_model_linear.predict(sample_test_X) \n",
    "svc_df[\"svc_preds\"] = list(svm_predictions)\n",
    "accuracy = svm_model_linear.score(sample_test_X, encoded_sample_test_Y)\n",
    "all_accuracy_scores.append(accuracy)\n",
    "print(\"SVC accuracy:\", accuracy)"
   ]
  },
  {
   "cell_type": "code",
   "execution_count": 55,
   "metadata": {},
   "outputs": [
    {
     "data": {
      "text/html": [
       "<div>\n",
       "<style scoped>\n",
       "    .dataframe tbody tr th:only-of-type {\n",
       "        vertical-align: middle;\n",
       "    }\n",
       "\n",
       "    .dataframe tbody tr th {\n",
       "        vertical-align: top;\n",
       "    }\n",
       "\n",
       "    .dataframe thead th {\n",
       "        text-align: right;\n",
       "    }\n",
       "</style>\n",
       "<table border=\"1\" class=\"dataframe\">\n",
       "  <thead>\n",
       "    <tr style=\"text-align: right;\">\n",
       "      <th></th>\n",
       "      <th>Actual</th>\n",
       "      <th>svc_preds</th>\n",
       "    </tr>\n",
       "  </thead>\n",
       "  <tbody>\n",
       "    <tr>\n",
       "      <th>0</th>\n",
       "      <td>Bug</td>\n",
       "      <td>0</td>\n",
       "    </tr>\n",
       "    <tr>\n",
       "      <th>1</th>\n",
       "      <td>Normal</td>\n",
       "      <td>0</td>\n",
       "    </tr>\n",
       "    <tr>\n",
       "      <th>2</th>\n",
       "      <td>Psychic</td>\n",
       "      <td>0</td>\n",
       "    </tr>\n",
       "    <tr>\n",
       "      <th>3</th>\n",
       "      <td>Normal</td>\n",
       "      <td>0</td>\n",
       "    </tr>\n",
       "    <tr>\n",
       "      <th>4</th>\n",
       "      <td>Psychic</td>\n",
       "      <td>0</td>\n",
       "    </tr>\n",
       "  </tbody>\n",
       "</table>\n",
       "</div>"
      ],
      "text/plain": [
       "    Actual  svc_preds\n",
       "0      Bug          0\n",
       "1   Normal          0\n",
       "2  Psychic          0\n",
       "3   Normal          0\n",
       "4  Psychic          0"
      ]
     },
     "execution_count": 55,
     "metadata": {},
     "output_type": "execute_result"
    }
   ],
   "source": [
    "svc_df.head()"
   ]
  },
  {
   "cell_type": "markdown",
   "metadata": {},
   "source": [
    "### Grid Search\n",
    "\n",
    "Determine best neighbors and depth level for models"
   ]
  },
  {
   "cell_type": "code",
   "execution_count": null,
   "metadata": {},
   "outputs": [],
   "source": [
    "from sklearn.model_selection import GridSearchCV"
   ]
  },
  {
   "cell_type": "code",
   "execution_count": null,
   "metadata": {},
   "outputs": [],
   "source": [
    "from sklearn.neighbors import KNeighborsClassifier\n",
    "\n",
    "# for KNN\n",
    "param_grid = {'n_neighbors':range(1, 10), 'weights':[\"uniform\", \"distance\"]}\n",
    "grid_search = GridSearchCV(KNeighborsClassifier(), param_grid, cv=10, return_train_score=True)\n",
    "grid_search.fit(sample_train_X, encoded_sample_train_Y)\n",
    "knn_params = grid_search.cv_results_['params'][grid_search.best_index_]\n",
    "knn_score = grid_search.score(sample_test_X, encoded_sample_test_Y)\n",
    "print(\"KNN params:\", knn_params, \"KNN score:\", knn_score)"
   ]
  },
  {
   "cell_type": "code",
   "execution_count": null,
   "metadata": {},
   "outputs": [],
   "source": [
    "from sklearn.tree import DecisionTreeClassifier\n",
    "\n",
    "# for Decision Tree\n",
    "param_grid_tree = {'max_depth': np.arange(1, 10)}\n",
    "tree_grid = GridSearchCV(DecisionTreeClassifier(), param_grid_tree, cv=10, return_train_score=True)\n",
    "tree_grid.fit(sample_test_X, encoded_sample_train_Y)\n",
    "tree_params = tree_grid.cv_results_['params'][tree_grid.best_index_]\n",
    "tree_score = tree_grid.score(sample_test_X, encoded_sample_test_Y)\n",
    "print(\"Tree params:\", tree_params, \"Tree score:\", tree_score)"
   ]
  },
  {
   "cell_type": "markdown",
   "metadata": {},
   "source": [
    "<br>\n",
    "<br>\n",
    "<br>\n",
    "\n",
    "### Ending Thoughts\n",
    "\n",
    "> feature selection - what to do?\n",
    "> compare accuracies\n",
    "> See per type - create results df, compare how accurate predictions are for <type>"
   ]
  },
  {
   "cell_type": "code",
   "execution_count": null,
   "metadata": {},
   "outputs": [],
   "source": []
  },
  {
   "cell_type": "markdown",
   "metadata": {},
   "source": [
    "\n",
    "<br>\n",
    "<br>\n",
    "\n",
    "## Visualizations\n"
   ]
  },
  {
   "cell_type": "code",
   "execution_count": null,
   "metadata": {},
   "outputs": [],
   "source": [
    "import matplotlib.pyplot as plt"
   ]
  },
  {
   "cell_type": "code",
   "execution_count": null,
   "metadata": {},
   "outputs": [],
   "source": []
  },
  {
   "cell_type": "code",
   "execution_count": 56,
   "metadata": {},
   "outputs": [
    {
     "data": {
      "text/plain": [
       "['Decision Tree', 'KNN Classifier', 'SVC Regression']"
      ]
     },
     "execution_count": 56,
     "metadata": {},
     "output_type": "execute_result"
    }
   ],
   "source": [
    "\n",
    "all_accuracy_models"
   ]
  },
  {
   "cell_type": "code",
   "execution_count": 57,
   "metadata": {},
   "outputs": [
    {
     "data": {
      "text/plain": [
       "[1.0, 0.5583480442255877, 0.19425675675675674]"
      ]
     },
     "execution_count": 57,
     "metadata": {},
     "output_type": "execute_result"
    }
   ],
   "source": [
    "all_accuracy_scores"
   ]
  },
  {
   "cell_type": "code",
   "execution_count": 61,
   "metadata": {},
   "outputs": [
    {
     "data": {
      "image/png": "[encoded data removed]",
      "text/plain": [
       "<Figure size 720x720 with 1 Axes>"
      ]
     },
     "metadata": {
      "needs_background": "light"
     },
     "output_type": "display_data"
    }
   ],
   "source": [
    "# visualize accuracy scores\n",
    "\n",
    "features = all_accuracy_models\n",
    "corr_nums = all_accuracy_scores\n",
    "\n",
    "plt.figure(figsize=(10,10))\n",
    "plt.barh(features, corr_nums, align='center', alpha=0.5)\n",
    "plt.yticks(features, features)\n",
    "plt.xlabel('Accuracy Score')\n",
    "plt.title('ML Models versus Accuracy Score')\n",
    "\n",
    "plt.show()"
   ]
  },
  {
   "cell_type": "code",
   "execution_count": null,
   "metadata": {},
   "outputs": [],
   "source": []
  },
  {
   "cell_type": "code",
   "execution_count": null,
   "metadata": {},
   "outputs": [],
   "source": []
  }
 ],
 "metadata": {
  "kernelspec": {
   "display_name": "Python 3",
   "language": "python",
   "name": "python3"
  },
  "language_info": {
   "codemirror_mode": {
    "name": "ipython",
    "version": 3
   },
   "file_extension": ".py",
   "mimetype": "text/x-python",
   "name": "python",
   "nbconvert_exporter": "python",
   "pygments_lexer": "ipython3",
   "version": "3.7.1"
  }
 },
 "nbformat": 4,
 "nbformat_minor": 2
}
